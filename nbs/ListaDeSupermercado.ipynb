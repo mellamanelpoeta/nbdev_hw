{
 "cells": [
  {
   "cell_type": "markdown",
   "metadata": {},
   "source": [
    "# Lista de supermercado\n",
    "> Clase ListaDeSupermercado"
   ]
  },
  {
   "cell_type": "markdown",
   "metadata": {},
   "source": []
  },
  {
   "cell_type": "code",
   "execution_count": 4,
   "metadata": {},
   "outputs": [],
   "source": [
    "#| default_exp ListaDeSupermercado"
   ]
  },
  {
   "cell_type": "code",
   "execution_count": null,
   "metadata": {},
   "outputs": [],
   "source": [
    "#| hide\n",
    "from nbdev.showdoc import *\n",
    "from fastcore.test import *\n",
    "\n",
    "class Articulo:\n",
    "    def __init__(self,\n",
    "                 nombre:str,    #El nombre del artículo\n",
    "                 cantidad:int): #La cantidad a comprar\n",
    "        \"\"\"\n",
    "        Constructor de la clase Articulo.\n",
    "        \"\"\"\n",
    "        self.nombre = nombre\n",
    "        self.cantidad = cantidad\n",
    "        self.agregado = False\n",
    "\n",
    "    def marcar_como_agregado(self):\n",
    "        \"\"\"Marca el artículo como agregado.\"\"\"\n",
    "        self.agregado = True"
   ]
  },
  {
   "cell_type": "code",
   "execution_count": null,
   "metadata": {},
   "outputs": [],
   "source": [
    "#| export\n",
    "class ListaDeSupermercado:\n",
    "    def __init__(self):\n",
    "        \"\"\"Constructor de la clase ListaDeSupermercado.\"\"\"\n",
    "        self.articulos = []\n",
    "\n",
    "    def agregar_articulo(self,\n",
    "                        articulo: Articulo): #  El artículo a agregar.\n",
    "        \"\"\"\n",
    "        Agrega un artículo a la lista.\n",
    "        \"\"\"\n",
    "        self.articulos.append(articulo)\n",
    "\n",
    "    def imprimir_todos_los_articulos(self):\n",
    "        \"\"\"Imprime todos los artículos en la lista.\"\"\"\n",
    "        for articulo in self.articulos:\n",
    "            print(f\"Nombre: {articulo.nombre}, Cantidad: {articulo.cantidad}\")\n",
    "\n",
    "    def imprimir_articulos_no_agregados(self):\n",
    "        \"\"\"Imprime los artículos que no han sido marcados como agregados.\"\"\"\n",
    "        for articulo in self.articulos:\n",
    "            if not articulo.agregado:\n",
    "                print(f\"Nombre: {articulo.nombre}, Cantidad: {articulo.cantidad}\")\n"
   ]
  },
  {
   "cell_type": "code",
   "execution_count": null,
   "metadata": {},
   "outputs": [],
   "source": [
    "show_doc(ListaDeSupermercado.agregar_articulo)"
   ]
  },
  {
   "cell_type": "code",
   "execution_count": null,
   "metadata": {},
   "outputs": [],
   "source": [
    "show_doc(ListaDeSupermercado.imprimir_todos_los_articulos)"
   ]
  },
  {
   "cell_type": "code",
   "execution_count": null,
   "metadata": {},
   "outputs": [],
   "source": [
    "show_doc(ListaDeSupermercado.imprimir_articulos_no_agregados)"
   ]
  }
 ],
 "metadata": {
  "kernelspec": {
   "display_name": "Python 3",
   "language": "python",
   "name": "python3"
  },
  "language_info": {
   "codemirror_mode": {
    "name": "ipython",
    "version": 3
   },
   "file_extension": ".py",
   "mimetype": "text/x-python",
   "name": "python",
   "nbconvert_exporter": "python",
   "pygments_lexer": "ipython3",
   "version": "3.10.7"
  }
 },
 "nbformat": 4,
 "nbformat_minor": 2
}
