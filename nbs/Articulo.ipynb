{
 "cells": [
  {
   "cell_type": "markdown",
   "metadata": {},
   "source": [
    "# Articulo\n",
    "> Clase Articulo"
   ]
  },
  {
   "cell_type": "code",
   "execution_count": null,
   "metadata": {},
   "outputs": [],
   "source": [
    "#| default_exp Articulo"
   ]
  },
  {
   "cell_type": "code",
   "execution_count": null,
   "metadata": {},
   "outputs": [],
   "source": [
    "#| hide\n",
    "from nbdev.showdoc import *\n",
    "from fastcore.test import *"
   ]
  },
  {
   "cell_type": "code",
   "execution_count": null,
   "metadata": {},
   "outputs": [],
   "source": [
    "#| export\n",
    "class Articulo:\n",
    "    def __init__(self,\n",
    "                 nombre:str,    #El nombre del artículo\n",
    "                 cantidad:int): #La cantidad a comprar\n",
    "        \"\"\"\n",
    "        Constructor de la clase Articulo.\n",
    "        \"\"\"\n",
    "        self.nombre = nombre\n",
    "        self.cantidad = cantidad\n",
    "        self.agregado = False\n",
    "\n",
    "    def marcar_como_agregado(self):\n",
    "        \"\"\"Marca el artículo como agregado.\"\"\"\n",
    "        self.agregado = True\n"
   ]
  },
  {
   "cell_type": "code",
   "execution_count": null,
   "metadata": {},
   "outputs": [],
   "source": [
    "show_doc(Articulo.marcar_como_agregado)"
   ]
  }
 ],
 "metadata": {},
 "nbformat": 4,
 "nbformat_minor": 2
}
